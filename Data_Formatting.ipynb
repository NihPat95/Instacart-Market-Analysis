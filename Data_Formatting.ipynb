{
  "nbformat": 4,
  "nbformat_minor": 0,
  "metadata": {
    "colab": {
      "name": "Data_Formatting.ipynb",
      "provenance": [],
      "machine_shape": "hm",
      "include_colab_link": true
    },
    "kernelspec": {
      "display_name": "Python 3",
      "language": "python",
      "name": "python3"
    },
    "language_info": {
      "codemirror_mode": {
        "name": "ipython",
        "version": 3
      },
      "file_extension": ".py",
      "mimetype": "text/x-python",
      "name": "python",
      "nbconvert_exporter": "python",
      "pygments_lexer": "ipython3",
      "version": "3.7.2"
    }
  },
  "cells": [
    {
      "cell_type": "markdown",
      "metadata": {
        "id": "view-in-github",
        "colab_type": "text"
      },
      "source": [
        "<a href=\"https://colab.research.google.com/github/NihPat95/Instacart-Market-Analysis/blob/master/Data_Formatting.ipynb\" target=\"_parent\"><img src=\"https://colab.research.google.com/assets/colab-badge.svg\" alt=\"Open In Colab\"/></a>"
      ]
    },
    {
      "cell_type": "code",
      "metadata": {
        "ExecuteTime": {
          "end_time": "2019-11-18T21:48:51.489297Z",
          "start_time": "2019-11-18T21:48:51.480091Z"
        },
        "colab_type": "code",
        "id": "8d4YNjzaKL3s",
        "colab": {}
      },
      "source": [
        "import numpy as np \n",
        "import pandas as pd\n",
        "import matplotlib.pyplot as plt\n",
        "import seaborn as sns\n",
        "from IPython.display import display\n",
        "\n",
        "colors = sns.color_palette()"
      ],
      "execution_count": 0,
      "outputs": []
    },
    {
      "cell_type": "code",
      "metadata": {
        "id": "0X4ONEoft9BV",
        "colab_type": "code",
        "colab": {}
      },
      "source": [
        "import sys\n",
        "# Function that returns the size of an object in MB\n",
        "def size(obj):\n",
        "    return \"{0:.2f} MB\".format(sys.getsizeof(obj) / (1000 * 1000))"
      ],
      "execution_count": 0,
      "outputs": []
    },
    {
      "cell_type": "code",
      "metadata": {
        "id": "yQixnzzrTE9w",
        "colab_type": "code",
        "outputId": "5822106a-9f34-45a4-de0a-551bd484cf6a",
        "colab": {
          "base_uri": "https://localhost:8080/",
          "height": 122
        }
      },
      "source": [
        "from google.colab import drive\n",
        "drive.mount('/content/drive')\n",
        "path = '/content/drive/My Drive/Instacart/'"
      ],
      "execution_count": 3,
      "outputs": [
        {
          "output_type": "stream",
          "text": [
            "Go to this URL in a browser: https://accounts.google.com/o/oauth2/auth?client_id=947318989803-6bn6qk8qdgf4n4g3pfee6491hc0brc4i.apps.googleusercontent.com&redirect_uri=urn%3aietf%3awg%3aoauth%3a2.0%3aoob&response_type=code&scope=email%20https%3a%2f%2fwww.googleapis.com%2fauth%2fdocs.test%20https%3a%2f%2fwww.googleapis.com%2fauth%2fdrive%20https%3a%2f%2fwww.googleapis.com%2fauth%2fdrive.photos.readonly%20https%3a%2f%2fwww.googleapis.com%2fauth%2fpeopleapi.readonly\n",
            "\n",
            "Enter your authorization code:\n",
            "··········\n",
            "Mounted at /content/drive\n"
          ],
          "name": "stdout"
        }
      ]
    },
    {
      "cell_type": "code",
      "metadata": {
        "ExecuteTime": {
          "end_time": "2019-11-18T21:16:30.587515Z",
          "start_time": "2019-11-18T21:16:17.581895Z"
        },
        "colab_type": "code",
        "id": "D4L_b1NlKL3z",
        "outputId": "87e02e81-058a-4423-961a-775d1bb6fbed",
        "scrolled": true,
        "colab": {
          "base_uri": "https://localhost:8080/",
          "height": 544
        }
      },
      "source": [
        "# Explore the order product prior and train files\n",
        "print(path + 'order_products__prior.csv')\n",
        "order_products__prior = pd.read_csv(path + 'order_products__prior.csv')\n",
        "print('Columns \\n{} \\n'.format(order_products__prior.columns))\n",
        "print('Shape \\n{} \\n'.format(order_products__prior.shape))\n",
        "print('Info \\n{} \\n'.format(order_products__prior.info()))\n",
        "order_products__prior.drop(columns=['add_to_cart_order', 'reordered'], \n",
        "                           inplace=True)\n",
        "display(order_products__prior.head())\n",
        "print('-' * 100)"
      ],
      "execution_count": 4,
      "outputs": [
        {
          "output_type": "stream",
          "text": [
            "/content/drive/My Drive/Instacart/order_products__prior.csv\n",
            "Columns \n",
            "Index(['order_id', 'product_id', 'add_to_cart_order', 'reordered'], dtype='object') \n",
            "\n",
            "Shape \n",
            "(32434489, 4) \n",
            "\n",
            "<class 'pandas.core.frame.DataFrame'>\n",
            "RangeIndex: 32434489 entries, 0 to 32434488\n",
            "Data columns (total 4 columns):\n",
            "order_id             int64\n",
            "product_id           int64\n",
            "add_to_cart_order    int64\n",
            "reordered            int64\n",
            "dtypes: int64(4)\n",
            "memory usage: 989.8 MB\n",
            "Info \n",
            "None \n",
            "\n"
          ],
          "name": "stdout"
        },
        {
          "output_type": "display_data",
          "data": {
            "text/html": [
              "<div>\n",
              "<style scoped>\n",
              "    .dataframe tbody tr th:only-of-type {\n",
              "        vertical-align: middle;\n",
              "    }\n",
              "\n",
              "    .dataframe tbody tr th {\n",
              "        vertical-align: top;\n",
              "    }\n",
              "\n",
              "    .dataframe thead th {\n",
              "        text-align: right;\n",
              "    }\n",
              "</style>\n",
              "<table border=\"1\" class=\"dataframe\">\n",
              "  <thead>\n",
              "    <tr style=\"text-align: right;\">\n",
              "      <th></th>\n",
              "      <th>order_id</th>\n",
              "      <th>product_id</th>\n",
              "    </tr>\n",
              "  </thead>\n",
              "  <tbody>\n",
              "    <tr>\n",
              "      <th>0</th>\n",
              "      <td>2</td>\n",
              "      <td>33120</td>\n",
              "    </tr>\n",
              "    <tr>\n",
              "      <th>1</th>\n",
              "      <td>2</td>\n",
              "      <td>28985</td>\n",
              "    </tr>\n",
              "    <tr>\n",
              "      <th>2</th>\n",
              "      <td>2</td>\n",
              "      <td>9327</td>\n",
              "    </tr>\n",
              "    <tr>\n",
              "      <th>3</th>\n",
              "      <td>2</td>\n",
              "      <td>45918</td>\n",
              "    </tr>\n",
              "    <tr>\n",
              "      <th>4</th>\n",
              "      <td>2</td>\n",
              "      <td>30035</td>\n",
              "    </tr>\n",
              "  </tbody>\n",
              "</table>\n",
              "</div>"
            ],
            "text/plain": [
              "   order_id  product_id\n",
              "0         2       33120\n",
              "1         2       28985\n",
              "2         2        9327\n",
              "3         2       45918\n",
              "4         2       30035"
            ]
          },
          "metadata": {
            "tags": []
          }
        },
        {
          "output_type": "stream",
          "text": [
            "----------------------------------------------------------------------------------------------------\n"
          ],
          "name": "stdout"
        }
      ]
    },
    {
      "cell_type": "code",
      "metadata": {
        "ExecuteTime": {
          "end_time": "2019-11-18T21:36:21.638744Z",
          "start_time": "2019-11-18T21:35:57.780915Z"
        },
        "colab_type": "code",
        "id": "tHxH8AN3KL37",
        "colab": {}
      },
      "source": [
        "# Concatenate the train and prior to create a our order_products dataset\n",
        "# orders_products = pd.concat([order_products__train, order_products__prior])\n",
        "customer_orders = order_products__prior"
      ],
      "execution_count": 0,
      "outputs": []
    },
    {
      "cell_type": "code",
      "metadata": {
        "id": "kb1LhdDST0Nk",
        "colab_type": "code",
        "colab": {}
      },
      "source": [
        "counts = customer_orders.groupby('product_id').size()\n",
        "counts.sort_values(inplace=True, axis=0, ascending=True)"
      ],
      "execution_count": 0,
      "outputs": []
    },
    {
      "cell_type": "code",
      "metadata": {
        "id": "jrlcjcncT5zC",
        "colab_type": "code",
        "outputId": "e6dd80b9-cc57-4836-d477-2aead044f89b",
        "colab": {
          "base_uri": "https://localhost:8080/",
          "height": 238
        }
      },
      "source": [
        "counts"
      ],
      "execution_count": 10,
      "outputs": [
        {
          "output_type": "execute_result",
          "data": {
            "text/plain": [
              "product_id\n",
              "14756         1\n",
              "23653         1\n",
              "45273         1\n",
              "47680         1\n",
              "23624         1\n",
              "          ...  \n",
              "47209    213584\n",
              "21903    241921\n",
              "21137    264683\n",
              "13176    379450\n",
              "24852    472565\n",
              "Length: 49677, dtype: int64"
            ]
          },
          "metadata": {
            "tags": []
          },
          "execution_count": 10
        }
      ]
    },
    {
      "cell_type": "code",
      "metadata": {
        "ExecuteTime": {
          "end_time": "2019-11-18T21:36:27.191281Z",
          "start_time": "2019-11-18T21:36:21.701085Z"
        },
        "id": "7flK6FBWkCIj",
        "colab_type": "code",
        "outputId": "45e48a66-8cbc-4b4b-b659-5971224c4f7c",
        "colab": {
          "base_uri": "https://localhost:8080/",
          "height": 354
        }
      },
      "source": [
        "minimum_occurrence = 1000\n",
        "for index, count in enumerate(counts.values):\n",
        "    if count > minimum_occurrence:\n",
        "        break\n",
        "\n",
        "print(len(counts) - index)\n",
        "fig, ax = plt.subplots(figsize=(10, 5))\n",
        "ax.plot(np.arange(start=index, stop=len(counts), step=1), np.log(counts.values[index:]))"
      ],
      "execution_count": 30,
      "outputs": [
        {
          "output_type": "stream",
          "text": [
            "5053\n"
          ],
          "name": "stdout"
        },
        {
          "output_type": "execute_result",
          "data": {
            "text/plain": [
              "[<matplotlib.lines.Line2D at 0x7f4dd89dfb00>]"
            ]
          },
          "metadata": {
            "tags": []
          },
          "execution_count": 30
        },
        {
          "output_type": "display_data",
          "data": {
            "image/png": "[encoded data removed]",
            "text/plain": [
              "<Figure size 720x360 with 1 Axes>"
            ]
          },
          "metadata": {
            "tags": []
          }
        }
      ]
    },
    {
      "cell_type": "code",
      "metadata": {
        "id": "FBmkK4JSxTOG",
        "colab_type": "code",
        "colab": {
          "base_uri": "https://localhost:8080/",
          "height": 139
        },
        "outputId": "9157cd74-3158-488d-f6e3-8f2ce83ed32b"
      },
      "source": [
        "orders = customer_orders[customer_orders['product_id'].isin(counts[index:])]\n",
        "orders['product_id'] = orders['product_id'].astype(np.int32)\n",
        "%time orders = orders.groupby(['order_id'])['product_id'].agg(lambda x: list(x)).reset_index(name='items')"
      ],
      "execution_count": 0,
      "outputs": [
        {
          "output_type": "stream",
          "text": [
            "/usr/local/lib/python3.6/dist-packages/ipykernel_launcher.py:2: SettingWithCopyWarning: \n",
            "A value is trying to be set on a copy of a slice from a DataFrame.\n",
            "Try using .loc[row_indexer,col_indexer] = value instead\n",
            "\n",
            "See the caveats in the documentation: http://pandas.pydata.org/pandas-docs/stable/user_guide/indexing.html#returning-a-view-versus-a-copy\n",
            "  \n"
          ],
          "name": "stderr"
        }
      ]
    },
    {
      "cell_type": "code",
      "metadata": {
        "id": "8PnJoGuuxV6H",
        "colab_type": "code",
        "colab": {
          "base_uri": "https://localhost:8080/",
          "height": 51
        },
        "outputId": "ffd49c31-cd5d-4b1d-f8be-11765c8930ba"
      },
      "source": [
        "%time orders = orders[orders['items'].map(len) > 1]"
      ],
      "execution_count": 27,
      "outputs": [
        {
          "output_type": "stream",
          "text": [
            "CPU times: user 188 ms, sys: 1.99 ms, total: 190 ms\n",
            "Wall time: 189 ms\n"
          ],
          "name": "stdout"
        }
      ]
    },
    {
      "cell_type": "code",
      "metadata": {
        "id": "R0AQeRzdpPLL",
        "colab_type": "code",
        "outputId": "04a485dc-e5d1-46c2-b4f5-4c479292cda0",
        "colab": {
          "base_uri": "https://localhost:8080/",
          "height": 51
        }
      },
      "source": [
        "print(size(orders))\n",
        "print(orders.shape)"
      ],
      "execution_count": 28,
      "outputs": [
        {
          "output_type": "stream",
          "text": [
            "10.35 MB\n",
            "(98305, 2)\n"
          ],
          "name": "stdout"
        }
      ]
    },
    {
      "cell_type": "code",
      "metadata": {
        "id": "iKpHek1M0kTd",
        "colab_type": "code",
        "colab": {}
      },
      "source": [
        "orders.to_pickle(path + 'customers_orders4000.pkl')"
      ],
      "execution_count": 0,
      "outputs": []
    },
    {
      "cell_type": "code",
      "metadata": {
        "ExecuteTime": {
          "end_time": "2019-11-18T21:49:07.543771Z",
          "start_time": "2019-11-18T21:49:01.224794Z"
        },
        "id": "2y1o_05QkCI8",
        "colab_type": "code",
        "colab": {}
      },
      "source": [
        "# baskets = pd.read_pickle('customer_orders5000.pkl')"
      ],
      "execution_count": 0,
      "outputs": []
    },
    {
      "cell_type": "code",
      "metadata": {
        "ExecuteTime": {
          "end_time": "2019-11-18T21:17:03.521390Z",
          "start_time": "2019-11-18T21:16:18.915Z"
        },
        "id": "f_rMJWfNkCJE",
        "colab_type": "code",
        "outputId": "93a6ea8c-ed0d-4c93-ddb8-7f1ccbcdaf46",
        "colab": {
          "base_uri": "https://localhost:8080/",
          "height": 669
        }
      },
      "source": [
        "products[products['product_id'].isin(counts.tail(n=20).index)]"
      ],
      "execution_count": 0,
      "outputs": [
        {
          "output_type": "execute_result",
          "data": {
            "text/html": [
              "<div>\n",
              "<style scoped>\n",
              "    .dataframe tbody tr th:only-of-type {\n",
              "        vertical-align: middle;\n",
              "    }\n",
              "\n",
              "    .dataframe tbody tr th {\n",
              "        vertical-align: top;\n",
              "    }\n",
              "\n",
              "    .dataframe thead th {\n",
              "        text-align: right;\n",
              "    }\n",
              "</style>\n",
              "<table border=\"1\" class=\"dataframe\">\n",
              "  <thead>\n",
              "    <tr style=\"text-align: right;\">\n",
              "      <th></th>\n",
              "      <th>product_id</th>\n",
              "      <th>product_name</th>\n",
              "      <th>aisle_id</th>\n",
              "      <th>department_id</th>\n",
              "    </tr>\n",
              "  </thead>\n",
              "  <tbody>\n",
              "    <tr>\n",
              "      <th>5875</th>\n",
              "      <td>5876</td>\n",
              "      <td>Organic Lemon</td>\n",
              "      <td>24</td>\n",
              "      <td>4</td>\n",
              "    </tr>\n",
              "    <tr>\n",
              "      <th>8276</th>\n",
              "      <td>8277</td>\n",
              "      <td>Apple Honeycrisp Organic</td>\n",
              "      <td>24</td>\n",
              "      <td>4</td>\n",
              "    </tr>\n",
              "    <tr>\n",
              "      <th>13175</th>\n",
              "      <td>13176</td>\n",
              "      <td>Bag of Organic Bananas</td>\n",
              "      <td>24</td>\n",
              "      <td>4</td>\n",
              "    </tr>\n",
              "    <tr>\n",
              "      <th>16796</th>\n",
              "      <td>16797</td>\n",
              "      <td>Strawberries</td>\n",
              "      <td>24</td>\n",
              "      <td>4</td>\n",
              "    </tr>\n",
              "    <tr>\n",
              "      <th>21136</th>\n",
              "      <td>21137</td>\n",
              "      <td>Organic Strawberries</td>\n",
              "      <td>24</td>\n",
              "      <td>4</td>\n",
              "    </tr>\n",
              "    <tr>\n",
              "      <th>21902</th>\n",
              "      <td>21903</td>\n",
              "      <td>Organic Baby Spinach</td>\n",
              "      <td>123</td>\n",
              "      <td>4</td>\n",
              "    </tr>\n",
              "    <tr>\n",
              "      <th>22934</th>\n",
              "      <td>22935</td>\n",
              "      <td>Organic Yellow Onion</td>\n",
              "      <td>83</td>\n",
              "      <td>4</td>\n",
              "    </tr>\n",
              "    <tr>\n",
              "      <th>24851</th>\n",
              "      <td>24852</td>\n",
              "      <td>Banana</td>\n",
              "      <td>24</td>\n",
              "      <td>4</td>\n",
              "    </tr>\n",
              "    <tr>\n",
              "      <th>24963</th>\n",
              "      <td>24964</td>\n",
              "      <td>Organic Garlic</td>\n",
              "      <td>83</td>\n",
              "      <td>4</td>\n",
              "    </tr>\n",
              "    <tr>\n",
              "      <th>26208</th>\n",
              "      <td>26209</td>\n",
              "      <td>Limes</td>\n",
              "      <td>24</td>\n",
              "      <td>4</td>\n",
              "    </tr>\n",
              "    <tr>\n",
              "      <th>27844</th>\n",
              "      <td>27845</td>\n",
              "      <td>Organic Whole Milk</td>\n",
              "      <td>84</td>\n",
              "      <td>16</td>\n",
              "    </tr>\n",
              "    <tr>\n",
              "      <th>27965</th>\n",
              "      <td>27966</td>\n",
              "      <td>Organic Raspberries</td>\n",
              "      <td>123</td>\n",
              "      <td>4</td>\n",
              "    </tr>\n",
              "    <tr>\n",
              "      <th>28203</th>\n",
              "      <td>28204</td>\n",
              "      <td>Organic Fuji Apple</td>\n",
              "      <td>24</td>\n",
              "      <td>4</td>\n",
              "    </tr>\n",
              "    <tr>\n",
              "      <th>39274</th>\n",
              "      <td>39275</td>\n",
              "      <td>Organic Blueberries</td>\n",
              "      <td>123</td>\n",
              "      <td>4</td>\n",
              "    </tr>\n",
              "    <tr>\n",
              "      <th>40705</th>\n",
              "      <td>40706</td>\n",
              "      <td>Organic Grape Tomatoes</td>\n",
              "      <td>123</td>\n",
              "      <td>4</td>\n",
              "    </tr>\n",
              "    <tr>\n",
              "      <th>45006</th>\n",
              "      <td>45007</td>\n",
              "      <td>Organic Zucchini</td>\n",
              "      <td>83</td>\n",
              "      <td>4</td>\n",
              "    </tr>\n",
              "    <tr>\n",
              "      <th>47208</th>\n",
              "      <td>47209</td>\n",
              "      <td>Organic Hass Avocado</td>\n",
              "      <td>24</td>\n",
              "      <td>4</td>\n",
              "    </tr>\n",
              "    <tr>\n",
              "      <th>47625</th>\n",
              "      <td>47626</td>\n",
              "      <td>Large Lemon</td>\n",
              "      <td>24</td>\n",
              "      <td>4</td>\n",
              "    </tr>\n",
              "    <tr>\n",
              "      <th>47765</th>\n",
              "      <td>47766</td>\n",
              "      <td>Organic Avocado</td>\n",
              "      <td>24</td>\n",
              "      <td>4</td>\n",
              "    </tr>\n",
              "    <tr>\n",
              "      <th>49682</th>\n",
              "      <td>49683</td>\n",
              "      <td>Cucumber Kirby</td>\n",
              "      <td>83</td>\n",
              "      <td>4</td>\n",
              "    </tr>\n",
              "  </tbody>\n",
              "</table>\n",
              "</div>"
            ],
            "text/plain": [
              "       product_id              product_name  aisle_id  department_id\n",
              "5875         5876             Organic Lemon        24              4\n",
              "8276         8277  Apple Honeycrisp Organic        24              4\n",
              "13175       13176    Bag of Organic Bananas        24              4\n",
              "16796       16797              Strawberries        24              4\n",
              "21136       21137      Organic Strawberries        24              4\n",
              "21902       21903      Organic Baby Spinach       123              4\n",
              "22934       22935      Organic Yellow Onion        83              4\n",
              "24851       24852                    Banana        24              4\n",
              "24963       24964            Organic Garlic        83              4\n",
              "26208       26209                     Limes        24              4\n",
              "27844       27845        Organic Whole Milk        84             16\n",
              "27965       27966       Organic Raspberries       123              4\n",
              "28203       28204        Organic Fuji Apple        24              4\n",
              "39274       39275       Organic Blueberries       123              4\n",
              "40705       40706    Organic Grape Tomatoes       123              4\n",
              "45006       45007          Organic Zucchini        83              4\n",
              "47208       47209      Organic Hass Avocado        24              4\n",
              "47625       47626               Large Lemon        24              4\n",
              "47765       47766           Organic Avocado        24              4\n",
              "49682       49683            Cucumber Kirby        83              4"
            ]
          },
          "metadata": {
            "tags": []
          },
          "execution_count": 18
        }
      ]
    },
    {
      "cell_type": "code",
      "metadata": {
        "ExecuteTime": {
          "start_time": "2019-11-18T21:49:23.105Z"
        },
        "id": "bFRqMEgwkCJI",
        "colab_type": "code",
        "colab": {}
      },
      "source": [
        "# from mlxtend.preprocessing import TransactionEncoder\n",
        "# te = TransactionEncoder()\n",
        "# te_ary = te.fit(baskets['items']).transform(baskets['items'])\n",
        "# df = pd.DataFrame(te_ary, columns=te.columns_)\n",
        "# baskets = baskets.join(df)"
      ],
      "execution_count": 0,
      "outputs": []
    }
  ]
}