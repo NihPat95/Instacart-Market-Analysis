{
  "nbformat": 4,
  "nbformat_minor": 0,
  "metadata": {
    "colab": {
      "name": "Instacart Analysis.ipynb",
      "provenance": [],
      "collapsed_sections": [],
      "machine_shape": "hm",
      "include_colab_link": true
    },
    "kernelspec": {
      "name": "python3",
      "display_name": "Python 3"
    },
    "accelerator": "TPU"
  },
  "cells": [
    {
      "cell_type": "markdown",
      "metadata": {
        "id": "view-in-github",
        "colab_type": "text"
      },
      "source": [
        "<a href=\"https://colab.research.google.com/github/NihPat95/Instacart-Market-Analysis/blob/master/Instacart_Analysis.ipynb\" target=\"_parent\"><img src=\"https://colab.research.google.com/assets/colab-badge.svg\" alt=\"Open In Colab\"/></a>"
      ]
    },
    {
      "cell_type": "code",
      "metadata": {
        "id": "XRtP2AoxWkf7",
        "colab_type": "code",
        "outputId": "8d10e67d-77cf-4937-aa22-e985765f1f14",
        "colab": {
          "base_uri": "https://localhost:8080/",
          "height": 105
        }
      },
      "source": [
        "!pip install efficient_apriori"
      ],
      "execution_count": 1,
      "outputs": [
        {
          "output_type": "stream",
          "text": [
            "Collecting efficient_apriori\n",
            "  Downloading https://files.pythonhosted.org/packages/5b/cb/cd06eb983e4a67d9b127df6e3ece87dd7ebea145daa4250929531315bbff/efficient_apriori-1.0.0-py3-none-any.whl\n",
            "Installing collected packages: efficient-apriori\n",
            "Successfully installed efficient-apriori-1.0.0\n"
          ],
          "name": "stdout"
        }
      ]
    },
    {
      "cell_type": "code",
      "metadata": {
        "id": "qKU7M3ZhWv94",
        "colab_type": "code",
        "colab": {}
      },
      "source": [
        "import numpy as np \n",
        "import pandas as pd\n",
        "import matplotlib.pyplot as plt\n",
        "import seaborn as sns\n",
        "from IPython.display import display\n",
        "import time\n",
        "from efficient_apriori import apriori\n",
        "import sys\n",
        "import random \n",
        "from sklearn.model_selection import KFold\n",
        "\n",
        "colors = sns.color_palette()"
      ],
      "execution_count": 0,
      "outputs": []
    },
    {
      "cell_type": "code",
      "metadata": {
        "id": "plsbWeC1wL3-",
        "colab_type": "code",
        "outputId": "be8ee6ba-a6d9-45d2-a2f6-c35897531142",
        "colab": {
          "base_uri": "https://localhost:8080/",
          "height": 122
        }
      },
      "source": [
        "from google.colab import drive\n",
        "drive.mount('/content/drive')"
      ],
      "execution_count": 3,
      "outputs": [
        {
          "output_type": "stream",
          "text": [
            "Go to this URL in a browser: https://accounts.google.com/o/oauth2/auth?client_id=947318989803-6bn6qk8qdgf4n4g3pfee6491hc0brc4i.apps.googleusercontent.com&redirect_uri=urn%3aietf%3awg%3aoauth%3a2.0%3aoob&response_type=code&scope=email%20https%3a%2f%2fwww.googleapis.com%2fauth%2fdocs.test%20https%3a%2f%2fwww.googleapis.com%2fauth%2fdrive%20https%3a%2f%2fwww.googleapis.com%2fauth%2fdrive.photos.readonly%20https%3a%2f%2fwww.googleapis.com%2fauth%2fpeopleapi.readonly\n",
            "\n",
            "Enter your authorization code:\n",
            "··········\n",
            "Mounted at /content/drive\n"
          ],
          "name": "stdout"
        }
      ]
    },
    {
      "cell_type": "code",
      "metadata": {
        "id": "2gq22ddlwNoJ",
        "colab_type": "code",
        "colab": {}
      },
      "source": [
        "path = '/content/drive/My Drive/Instacart/'\n",
        "orders = pd.read_pickle(path + 'customers_orders10000.pkl')\n",
        "products = pd.read_csv(path + 'products.csv')\n",
        "productIdMap = products.set_index(['product_id'])['product_name'].to_dict()"
      ],
      "execution_count": 0,
      "outputs": []
    },
    {
      "cell_type": "code",
      "metadata": {
        "id": "HLexQsYt0t3T",
        "colab_type": "code",
        "colab": {}
      },
      "source": [
        "# Function that returns the size of an object in MB\n",
        "def size(obj):\n",
        "    return \"{0:.2f} MB\".format(sys.getsizeof(obj) / (1000 * 1000))\n",
        "\n",
        "def itemsets_id_to_name(itemsets):\n",
        "  itemsets_names = {}\n",
        "  for k, v in itemsets.items():\n",
        "    itemsets_names[k] = {}\n",
        "    for k2, v2 in v.items():\n",
        "      itemsets_names[k][tuple([productIdMap[i] for i in k2])] = v2\n",
        "  return itemsets_names\n",
        "\n",
        "def rules_id_to_name(rules):\n",
        "  rules_name = [Rule(tuple([productIdMap[i] for i in rule.lhs]), \n",
        "                   tuple([productIdMap[i] for i in rule.rhs]),\n",
        "                   rule.count_full, rule.count_lhs, \n",
        "                   rule.count_rhs, rule.num_transactions) for rule in rules]\n",
        "  return rules_name"
      ],
      "execution_count": 0,
      "outputs": []
    },
    {
      "cell_type": "code",
      "metadata": {
        "id": "CGfqMoNA3LfS",
        "colab_type": "code",
        "colab": {}
      },
      "source": [
        "def compute_prediction(h1, h2, rule):\n",
        "  predicted = [[i for i in rule.rhs] for rule in rule if set(rule.lhs).issubset(h1)]\n",
        "  predicted = [item for sublist in predicted for item in sublist]\n",
        "  predicted = set(predicted)\n",
        "  return predicted\n",
        "\n",
        "def compute_recall(rules, X_test):\n",
        "  test = X_test['items'].map(lambda x: random.sample(x, len(x)))\n",
        "  recall = []\n",
        "  for b in test:\n",
        "    h1, h2 = set(b[0:int(len(b)/2)]), set(b[int(len(b)/2):])\n",
        "    predicted = compute_prediction(h1, h2, rules)\n",
        "    recall.append(len(predicted.intersection(h2))/len(h2))  \n",
        "  return sum(recall) / len(recall) * 100 "
      ],
      "execution_count": 0,
      "outputs": []
    },
    {
      "cell_type": "code",
      "metadata": {
        "id": "WIERYCbPYCps",
        "colab_type": "code",
        "colab": {}
      },
      "source": [
        "def k_cross_validation_score(orders, k=30):\n",
        "  cv = KFold(n_splits=k, shuffle=True)\n",
        "  s1 = int(len(orders)/k)\n",
        "  s2 = len(orders) - s1\n",
        "  count = 1\n",
        "  scores = []\n",
        "  print('Train Data Size {0} Test Data Size {1}'.format(s2, s1))\n",
        "  for train_index, test_index in cv.split(orders['items']):\n",
        "    X_train, X_test = orders.iloc[train_index], orders.iloc[test_index]\n",
        "    _, rules = apriori(X_train['items'], min_support=0.001,  min_confidence=0.001)\n",
        "    score_1 = compute_recall(rules, X_test)\n",
        "    scores.append(score_1)\n",
        "    print('[{}/{}] Score {}'.format(count, k, score_1))\n",
        "    count = count + 1 \n",
        "  return scores"
      ],
      "execution_count": 0,
      "outputs": []
    },
    {
      "cell_type": "code",
      "metadata": {
        "id": "9oKzm7qBBLjS",
        "colab_type": "code",
        "colab": {
          "base_uri": "https://localhost:8080/",
          "height": 85
        },
        "outputId": "bbd90706-f942-4ad3-c567-6c86e3062b65"
      },
      "source": [
        "%time scores = k_cross_validation_score(orders)"
      ],
      "execution_count": 0,
      "outputs": [
        {
          "output_type": "stream",
          "text": [
            "Train Data Size 5936 Test Data Size 204\n",
            "[1/30] Score 39.75609756097561\n",
            "[2/30] Score 43.41463414634146\n",
            "[3/30] Score 42.4390243902439\n"
          ],
          "name": "stdout"
        }
      ]
    },
    {
      "cell_type": "code",
      "metadata": {
        "id": "QA8kqBhgkjeM",
        "colab_type": "code",
        "colab": {
          "base_uri": "https://localhost:8080/",
          "height": 164
        },
        "outputId": "003cd9dc-d6bc-4854-950b-c4ca96a83265"
      },
      "source": [
        "sum(scores)"
      ],
      "execution_count": 21,
      "outputs": [
        {
          "output_type": "error",
          "ename": "NameError",
          "evalue": "ignored",
          "traceback": [
            "\u001b[0;31m---------------------------------------------------------------------------\u001b[0m",
            "\u001b[0;31mNameError\u001b[0m                                 Traceback (most recent call last)",
            "\u001b[0;32m<ipython-input-21-a30f4834dd06>\u001b[0m in \u001b[0;36m<module>\u001b[0;34m()\u001b[0m\n\u001b[0;32m----> 1\u001b[0;31m \u001b[0msum\u001b[0m\u001b[0;34m(\u001b[0m\u001b[0mscores\u001b[0m\u001b[0;34m)\u001b[0m\u001b[0;34m\u001b[0m\u001b[0;34m\u001b[0m\u001b[0m\n\u001b[0m",
            "\u001b[0;31mNameError\u001b[0m: name 'scores' is not defined"
          ]
        }
      ]
    },
    {
      "cell_type": "code",
      "metadata": {
        "id": "zzg4T1k0qfO3",
        "colab_type": "code",
        "colab": {}
      },
      "source": [
        ""
      ],
      "execution_count": 0,
      "outputs": []
    }
  ]
}