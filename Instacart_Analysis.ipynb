{
  "nbformat": 4,
  "nbformat_minor": 0,
  "metadata": {
    "colab": {
      "name": "Instacart Analysis.ipynb",
      "provenance": [],
      "collapsed_sections": [],
      "machine_shape": "hm",
      "include_colab_link": true
    },
    "kernelspec": {
      "name": "python3",
      "display_name": "Python 3"
    },
    "accelerator": "GPU"
  },
  "cells": [
    {
      "cell_type": "markdown",
      "metadata": {
        "id": "view-in-github",
        "colab_type": "text"
      },
      "source": [
        "<a href=\"https://colab.research.google.com/github/NihPat95/Instacart-Market-Analysis/blob/master/Instacart_Analysis.ipynb\" target=\"_parent\"><img src=\"https://colab.research.google.com/assets/colab-badge.svg\" alt=\"Open In Colab\"/></a>"
      ]
    },
    {
      "cell_type": "code",
      "metadata": {
        "id": "qKU7M3ZhWv94",
        "colab_type": "code",
        "colab": {}
      },
      "source": [
        "import numpy as np \n",
        "import pandas as pd\n",
        "import matplotlib.pyplot as plt\n",
        "import seaborn as sns\n",
        "from IPython.display import display\n",
        "import time\n",
        "\n",
        "colors = sns.color_palette()"
      ],
      "execution_count": 0,
      "outputs": []
    },
    {
      "cell_type": "code",
      "metadata": {
        "id": "plsbWeC1wL3-",
        "colab_type": "code",
        "outputId": "5f28ef21-9123-4149-8642-9000e74507cb",
        "colab": {
          "base_uri": "https://localhost:8080/",
          "height": 122
        }
      },
      "source": [
        "from google.colab import drive\n",
        "drive.mount('/content/drive')"
      ],
      "execution_count": 2,
      "outputs": [
        {
          "output_type": "stream",
          "text": [
            "Go to this URL in a browser: https://accounts.google.com/o/oauth2/auth?client_id=947318989803-6bn6qk8qdgf4n4g3pfee6491hc0brc4i.apps.googleusercontent.com&redirect_uri=urn%3aietf%3awg%3aoauth%3a2.0%3aoob&response_type=code&scope=email%20https%3a%2f%2fwww.googleapis.com%2fauth%2fdocs.test%20https%3a%2f%2fwww.googleapis.com%2fauth%2fdrive%20https%3a%2f%2fwww.googleapis.com%2fauth%2fdrive.photos.readonly%20https%3a%2f%2fwww.googleapis.com%2fauth%2fpeopleapi.readonly\n",
            "\n",
            "Enter your authorization code:\n",
            "··········\n",
            "Mounted at /content/drive\n"
          ],
          "name": "stdout"
        }
      ]
    },
    {
      "cell_type": "code",
      "metadata": {
        "id": "vxk50f6qtNLG",
        "colab_type": "code",
        "colab": {
          "base_uri": "https://localhost:8080/",
          "height": 105
        },
        "outputId": "59580157-2cef-42d8-df02-b73ace2fed29"
      },
      "source": [
        "!pip install efficient_apriori"
      ],
      "execution_count": 5,
      "outputs": [
        {
          "output_type": "stream",
          "text": [
            "Collecting efficient_apriori\n",
            "  Downloading https://files.pythonhosted.org/packages/5b/cb/cd06eb983e4a67d9b127df6e3ece87dd7ebea145daa4250929531315bbff/efficient_apriori-1.0.0-py3-none-any.whl\n",
            "Installing collected packages: efficient-apriori\n",
            "Successfully installed efficient-apriori-1.0.0\n"
          ],
          "name": "stdout"
        }
      ]
    },
    {
      "cell_type": "code",
      "metadata": {
        "id": "2gq22ddlwNoJ",
        "colab_type": "code",
        "colab": {}
      },
      "source": [
        "path = '/content/drive/My Drive/Instacart/'\n",
        "orders = pd.read_pickle(path + 'customers_orders10000.pkl')"
      ],
      "execution_count": 0,
      "outputs": []
    },
    {
      "cell_type": "code",
      "metadata": {
        "id": "5goV-GSbz6r7",
        "colab_type": "code",
        "colab": {}
      },
      "source": [
        "products = pd.read_csv(path + 'products.csv')\n",
        "productIdMap = products.set_index(['product_id'])['product_name'].to_dict()"
      ],
      "execution_count": 0,
      "outputs": []
    },
    {
      "cell_type": "code",
      "metadata": {
        "id": "4n9qD9ac5xh7",
        "colab_type": "code",
        "colab": {}
      },
      "source": [
        "from efficient_apriori import apriori\n",
        "itemsets, rules = apriori(orders['items'], min_support=0.01,  min_confidence=0.01)"
      ],
      "execution_count": 0,
      "outputs": []
    },
    {
      "cell_type": "code",
      "metadata": {
        "id": "HLexQsYt0t3T",
        "colab_type": "code",
        "colab": {}
      },
      "source": [
        "def itemsets_id_to_name(itemsets):\n",
        "  itemsets_names = {}\n",
        "  for k, v in itemsets.items():\n",
        "    itemsets_names[k] = {}\n",
        "    for k2, v2 in v.items():\n",
        "      itemsets_names[k][tuple([productIdMap[i] for i in k2])] = v2\n",
        "  return itemsets_names"
      ],
      "execution_count": 0,
      "outputs": []
    },
    {
      "cell_type": "code",
      "metadata": {
        "id": "edIF5fgw1BRV",
        "colab_type": "code",
        "colab": {}
      },
      "source": [
        "from efficient_apriori import Rule\n",
        "def rules_id_to_name(rules):\n",
        "  rules_name = [Rule(tuple([productIdMap[i] for i in rule.lhs]), \n",
        "                   tuple([productIdMap[i] for i in rule.rhs]),\n",
        "                   rule.count_full, rule.count_lhs, \n",
        "                   rule.count_rhs, rule.num_transactions) for rule in rules]\n",
        "  return rules_name"
      ],
      "execution_count": 0,
      "outputs": []
    },
    {
      "cell_type": "code",
      "metadata": {
        "id": "u7SbrCDl9OYZ",
        "colab_type": "code",
        "colab": {
          "base_uri": "https://localhost:8080/",
          "height": 1000
        },
        "outputId": "49d08306-0a1f-4796-943c-fe17abd76e73"
      },
      "source": [
        "itemsets_id_to_name(itemsets)"
      ],
      "execution_count": 65,
      "outputs": [
        {
          "output_type": "execute_result",
          "data": {
            "text/plain": [
              "{1: {('3D White Radiant Mint Flavor Whitening Toothpaste',): 72,\n",
              "  ('93% Ground Beef',): 379,\n",
              "  ('Aged Red Wine Vinegar',): 106,\n",
              "  ('Baby Food Pears Squash',): 169,\n",
              "  ('Balsamic Vinegar',): 64,\n",
              "  ('Butter Croissant',): 74,\n",
              "  ('Cannellini White Kidney Beans No Salt Added',): 365,\n",
              "  ('Carb Balance Small Fajita Whole Wheat Tortillas',): 92,\n",
              "  ('Chewy Peanut Peanut Butter Granola Bars',): 83,\n",
              "  ('Chicken Quesadilla',): 62,\n",
              "  ('Chocolate Peanut Butter',): 314,\n",
              "  ('Choose-A-Sheet Regular Roll Paper Towels',): 207,\n",
              "  ('Chopped Spinach Steamers',): 78,\n",
              "  ('Classic Mixed Vegetables',): 94,\n",
              "  ('Cranberries',): 99,\n",
              "  ('Dairy Free Hazelnut Coconut Milk Creamer',): 183,\n",
              "  ('Dark Chocolate Covered Goji Berries',): 71,\n",
              "  ('European-Style Cultured Butter',): 79,\n",
              "  ('Fresh Cut Green Beans',): 171,\n",
              "  ('Freshly made pasta layered between a rich meat sauce and topped with Real Mozzarella cheese Lasagna with Meat & Sauce',): 78,\n",
              "  ('Gluten Free Chocolate Coated Wafers',): 125,\n",
              "  ('Limeade',): 190,\n",
              "  ('Organic Broccoli Crown',): 399,\n",
              "  ('Organic Chocolate Syrup',): 99,\n",
              "  ('Organic Frozen Peas',): 1231,\n",
              "  ('Organic Gluten & Wheat Free Homestyle Waffles',): 264,\n",
              "  ('Organic Love Crunch Dark Chocolate Macaroon Granola',): 91,\n",
              "  ('Organic Spelt Pretzels',): 153,\n",
              "  ('Organic Tomato Puree',): 119,\n",
              "  ('Original BBQ Sauce',): 179,\n",
              "  ('Original High Efficiency Liquid Laundry Detergent',): 157,\n",
              "  ('Original Spray',): 143,\n",
              "  ('Premium Selects Brussels Sprouts',): 98,\n",
              "  ('Pumpkin Fig Ancient Grain Granola',): 199,\n",
              "  ('Pureed Baby Food Strawberries Carrots',): 94,\n",
              "  ('Real French Vinaigrette Dressing',): 202,\n",
              "  ('Ritz Peanut Butter Cracker Sandwiches',): 77,\n",
              "  ('Soy Free Buttery Spread',): 385,\n",
              "  ('Sriracha Hot Chili Sauce',): 270,\n",
              "  ('Steamfresh Sweet Peas',): 284,\n",
              "  ('Summer Strawberry Fruit Strip',): 80,\n",
              "  ('Sweet Peas',): 154,\n",
              "  ('Taboule Salad',): 191,\n",
              "  ('The Original Fruit and Nut Food Bar - Peanut Butter Cookie',): 69,\n",
              "  ('Three Cheese Tortellini',): 89,\n",
              "  ('Total 2% with Raspberry Pomegranate Lowfat Greek Strained Yogurt',): 174,\n",
              "  ('Traditional Basil Pesto Sauce',): 185,\n",
              "  ('Traditional Egg Pasta Pappardelle',): 132,\n",
              "  ('Tropical Punch',): 78,\n",
              "  ('Unbleached Recycled Paper Towel Rolls',): 68,\n",
              "  ('Wasabi Roasted Seaweed Snacks',): 163,\n",
              "  ('Yellow Corn Organic Tortillas',): 155},\n",
              " 2: {('93% Ground Beef', 'Organic Frozen Peas'): 73,\n",
              "  ('Baby Food Pears Squash', 'Pureed Baby Food Strawberries Carrots'): 79,\n",
              "  ('Organic Broccoli Crown', 'Organic Frozen Peas'): 147,\n",
              "  ('Organic Frozen Peas', 'Cannellini White Kidney Beans No Salt Added'): 109,\n",
              "  ('Organic Frozen Peas', 'Soy Free Buttery Spread'): 85}}"
            ]
          },
          "metadata": {
            "tags": []
          },
          "execution_count": 65
        }
      ]
    },
    {
      "cell_type": "code",
      "metadata": {
        "id": "l6SoCQvx9Wp2",
        "colab_type": "code",
        "colab": {
          "base_uri": "https://localhost:8080/",
          "height": 187
        },
        "outputId": "aadabe45-d7df-4c65-dedb-10470f84ce24"
      },
      "source": [
        "rules_id_to_name(rules)"
      ],
      "execution_count": 66,
      "outputs": [
        {
          "output_type": "execute_result",
          "data": {
            "text/plain": [
              "[{Organic Frozen Peas} -> {93% Ground Beef},\n",
              " {93% Ground Beef} -> {Organic Frozen Peas},\n",
              " {Pureed Baby Food Strawberries Carrots} -> {Baby Food Pears Squash},\n",
              " {Baby Food Pears Squash} -> {Pureed Baby Food Strawberries Carrots},\n",
              " {Organic Frozen Peas} -> {Organic Broccoli Crown},\n",
              " {Organic Broccoli Crown} -> {Organic Frozen Peas},\n",
              " {Soy Free Buttery Spread} -> {Organic Frozen Peas},\n",
              " {Organic Frozen Peas} -> {Soy Free Buttery Spread},\n",
              " {Cannellini White Kidney Beans No Salt Added} -> {Organic Frozen Peas},\n",
              " {Organic Frozen Peas} -> {Cannellini White Kidney Beans No Salt Added}]"
            ]
          },
          "metadata": {
            "tags": []
          },
          "execution_count": 66
        }
      ]
    },
    {
      "cell_type": "code",
      "metadata": {
        "id": "VE_X1Req9cZ5",
        "colab_type": "code",
        "colab": {}
      },
      "source": [
        ""
      ],
      "execution_count": 0,
      "outputs": []
    }
  ]
}