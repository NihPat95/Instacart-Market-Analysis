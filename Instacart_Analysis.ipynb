{
  "nbformat": 4,
  "nbformat_minor": 0,
  "metadata": {
    "colab": {
      "name": "Instacart Analysis.ipynb",
      "provenance": [],
      "collapsed_sections": [],
      "machine_shape": "hm",
      "include_colab_link": true
    },
    "kernelspec": {
      "name": "python3",
      "display_name": "Python 3"
    },
    "accelerator": "GPU"
  },
  "cells": [
    {
      "cell_type": "markdown",
      "metadata": {
        "id": "view-in-github",
        "colab_type": "text"
      },
      "source": [
        "<a href=\"https://colab.research.google.com/github/NihPat95/Instacart-Market-Analysis/blob/master/Instacart_Analysis.ipynb\" target=\"_parent\"><img src=\"https://colab.research.google.com/assets/colab-badge.svg\" alt=\"Open In Colab\"/></a>"
      ]
    },
    {
      "cell_type": "code",
      "metadata": {
        "id": "XRtP2AoxWkf7",
        "colab_type": "code",
        "outputId": "1ba5d6da-3f9a-4ab3-80cc-e6770c2fd7b5",
        "colab": {
          "base_uri": "https://localhost:8080/",
          "height": 105
        }
      },
      "source": [
        "!pip install efficient_apriori"
      ],
      "execution_count": 1,
      "outputs": [
        {
          "output_type": "stream",
          "text": [
            "Collecting efficient_apriori\n",
            "  Downloading https://files.pythonhosted.org/packages/5b/cb/cd06eb983e4a67d9b127df6e3ece87dd7ebea145daa4250929531315bbff/efficient_apriori-1.0.0-py3-none-any.whl\n",
            "Installing collected packages: efficient-apriori\n",
            "Successfully installed efficient-apriori-1.0.0\n"
          ],
          "name": "stdout"
        }
      ]
    },
    {
      "cell_type": "code",
      "metadata": {
        "id": "qKU7M3ZhWv94",
        "colab_type": "code",
        "colab": {}
      },
      "source": [
        "import numpy as np \n",
        "import pandas as pd\n",
        "import matplotlib.pyplot as plt\n",
        "import seaborn as sns\n",
        "from IPython.display import display\n",
        "import time\n",
        "from efficient_apriori import apriori\n",
        "import sys\n",
        "import random \n",
        "colors = sns.color_palette()"
      ],
      "execution_count": 0,
      "outputs": []
    },
    {
      "cell_type": "code",
      "metadata": {
        "id": "plsbWeC1wL3-",
        "colab_type": "code",
        "outputId": "c0631b08-1b8d-4f9a-de90-0e95885f8585",
        "colab": {
          "base_uri": "https://localhost:8080/",
          "height": 122
        }
      },
      "source": [
        "from google.colab import drive\n",
        "drive.mount('/content/drive')"
      ],
      "execution_count": 3,
      "outputs": [
        {
          "output_type": "stream",
          "text": [
            "Go to this URL in a browser: https://accounts.google.com/o/oauth2/auth?client_id=947318989803-6bn6qk8qdgf4n4g3pfee6491hc0brc4i.apps.googleusercontent.com&redirect_uri=urn%3aietf%3awg%3aoauth%3a2.0%3aoob&response_type=code&scope=email%20https%3a%2f%2fwww.googleapis.com%2fauth%2fdocs.test%20https%3a%2f%2fwww.googleapis.com%2fauth%2fdrive%20https%3a%2f%2fwww.googleapis.com%2fauth%2fdrive.photos.readonly%20https%3a%2f%2fwww.googleapis.com%2fauth%2fpeopleapi.readonly\n",
            "\n",
            "Enter your authorization code:\n",
            "··········\n",
            "Mounted at /content/drive\n"
          ],
          "name": "stdout"
        }
      ]
    },
    {
      "cell_type": "code",
      "metadata": {
        "id": "2gq22ddlwNoJ",
        "colab_type": "code",
        "colab": {}
      },
      "source": [
        "path = '/content/drive/My Drive/Instacart/'\n",
        "orders = pd.read_pickle(path + 'customers_orders10000.pkl')\n",
        "products = pd.read_csv(path + 'products.csv')\n",
        "productIdMap = products.set_index(['product_id'])['product_name'].to_dict()"
      ],
      "execution_count": 0,
      "outputs": []
    },
    {
      "cell_type": "code",
      "metadata": {
        "id": "HLexQsYt0t3T",
        "colab_type": "code",
        "colab": {}
      },
      "source": [
        "# Function that returns the size of an object in MB\n",
        "def size(obj):\n",
        "    return \"{0:.2f} MB\".format(sys.getsizeof(obj) / (1000 * 1000))\n",
        "\n",
        "def itemsets_id_to_name(itemsets):\n",
        "  itemsets_names = {}\n",
        "  for k, v in itemsets.items():\n",
        "    itemsets_names[k] = {}\n",
        "    for k2, v2 in v.items():\n",
        "      itemsets_names[k][tuple([productIdMap[i] for i in k2])] = v2\n",
        "  return itemsets_names\n",
        "\n",
        "def rules_id_to_name(rules):\n",
        "  rules_name = [Rule(tuple([productIdMap[i] for i in rule.lhs]), \n",
        "                   tuple([productIdMap[i] for i in rule.rhs]),\n",
        "                   rule.count_full, rule.count_lhs, \n",
        "                   rule.count_rhs, rule.num_transactions) for rule in rules]\n",
        "  return rules_name"
      ],
      "execution_count": 0,
      "outputs": []
    },
    {
      "cell_type": "code",
      "metadata": {
        "id": "CGfqMoNA3LfS",
        "colab_type": "code",
        "colab": {}
      },
      "source": [
        "def compute_prediction(h1, h2, rule):\n",
        "  predicted = [[i for i in rule.rhs] for rule in rule if set(rule.lhs).issubset(h1)]\n",
        "  predicted = [item for sublist in predicted for item in sublist]\n",
        "  predicted = set(predicted)\n",
        "  return predicted\n",
        "\n",
        "def compute_recall(rules, X_test):\n",
        "  test = X_test['items'].map(lambda x: random.sample(x, len(x)))\n",
        "  recall = []\n",
        "  for b in test:\n",
        "    h1, h2 = set(b[0:int(len(b)/2)]), set(b[int(len(b)/2):])\n",
        "    predicted = compute_prediction(h1, h2, rules)\n",
        "    recall.append(len(predicted.intersection(h2))/len(h2))  \n",
        "  return sum(recall) / len(recall) * 100 "
      ],
      "execution_count": 0,
      "outputs": []
    },
    {
      "cell_type": "code",
      "metadata": {
        "id": "Vkg22LwnXlle",
        "colab_type": "code",
        "colab": {}
      },
      "source": [
        "from sklearn.model_selection import KFold\n",
        "cv = KFold(n_splits=25, random_state=42, shuffle=False)"
      ],
      "execution_count": 0,
      "outputs": []
    },
    {
      "cell_type": "code",
      "metadata": {
        "id": "WIERYCbPYCps",
        "colab_type": "code",
        "colab": {
          "base_uri": "https://localhost:8080/",
          "height": 51
        },
        "outputId": "b5d6a4bc-30cd-4861-aabf-80174447df4f"
      },
      "source": [
        "scores = []\n",
        "for train_index, test_index in cv.split(orders['items']):\n",
        "  X_train, X_test = orders.iloc[train_index], orders.iloc[test_index]\n",
        "  _, rules = apriori(X_train['items'], min_support=0.01,  min_confidence=0.01)\n",
        "  scores.append(compute_recall(rules, X_test))"
      ],
      "execution_count": 31,
      "outputs": [
        {
          "output_type": "stream",
          "text": [
            "CPU times: user 3 µs, sys: 1e+03 ns, total: 4 µs\n",
            "Wall time: 7.63 µs\n"
          ],
          "name": "stdout"
        }
      ]
    },
    {
      "cell_type": "code",
      "metadata": {
        "id": "9oKzm7qBBLjS",
        "colab_type": "code",
        "outputId": "c7b5b703-82d5-4a31-d606-29ba7b40378c",
        "colab": {
          "base_uri": "https://localhost:8080/",
          "height": 442
        }
      },
      "source": [
        "scores"
      ],
      "execution_count": 32,
      "outputs": [
        {
          "output_type": "execute_result",
          "data": {
            "text/plain": [
              "[7.317073170731707,\n",
              " 5.894308943089431,\n",
              " 5.691056910569105,\n",
              " 8.130081300813007,\n",
              " 9.552845528455284,\n",
              " 8.94308943089431,\n",
              " 7.520325203252034,\n",
              " 9.146341463414634,\n",
              " 7.317073170731707,\n",
              " 9.552845528455284,\n",
              " 6.504065040650407,\n",
              " 7.723577235772358,\n",
              " 7.113821138211382,\n",
              " 8.536585365853659,\n",
              " 7.317073170731707,\n",
              " 7.755102040816326,\n",
              " 6.73469387755102,\n",
              " 13.673469387755102,\n",
              " 7.346938775510205,\n",
              " 6.938775510204081,\n",
              " 4.8979591836734695,\n",
              " 11.224489795918368,\n",
              " 3.2653061224489797,\n",
              " 6.530612244897959,\n",
              " 8.36734693877551]"
            ]
          },
          "metadata": {
            "tags": []
          },
          "execution_count": 32
        }
      ]
    },
    {
      "cell_type": "code",
      "metadata": {
        "id": "q9BcO1ebBOS7",
        "colab_type": "code",
        "colab": {}
      },
      "source": [
        ""
      ],
      "execution_count": 0,
      "outputs": []
    }
  ]
}